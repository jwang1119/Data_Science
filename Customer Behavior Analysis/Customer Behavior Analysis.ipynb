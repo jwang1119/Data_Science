{
 "cells": [
  {
   "cell_type": "markdown",
   "metadata": {},
   "source": [
    "## Import Libraries"
   ]
  },
  {
   "cell_type": "code",
   "execution_count": 1,
   "metadata": {},
   "outputs": [],
   "source": [
    "# Import the libraries we usually use for data analysis.\n",
    "import pandas as pd\n",
    "import numpy as np\n",
    "import seaborn as sns\n",
    "import matplotlib.pyplot as plt\n",
    "%matplotlib inline\n",
    "import matplotlib.ticker as ticker"
   ]
  },
  {
   "cell_type": "markdown",
   "metadata": {},
   "source": [
    "## The Data\n",
    "\n",
    "**Column Descriptions:**    \n",
    "* Tax Year: The year the customer filed their taxes (i.e. In 2015, they filed their 2014 (TY14) taxes).               \n",
    "* Log-In Date: The date they first logged in to the product in that tax year.               \n",
    "* Completed Product: Which product did they use to file their taxes.           \n",
    "* Marketing Channel: Which marketing channel drove the log-in.  \n",
    "* Customer Type: What customer segment is the customer in when they logged in.             \n",
    "    * Veteran - Returning/Existing Customer.  \n",
    "    * New - New Customer.     \n",
    "* Log-In Flag: Flag indicating whether or not the customer logged in vs. just visited.             \n",
    "    * This data includes only customer's who logged in.             \n",
    "* Completed: Flag indicating whether or not the customer completed after logging in.        \n",
    "* Session Count: # of times a customer logged in before completing.           \n",
    "* Price: Average selling price per unit.         \n",
    "\n",
    "**Note on Null:**\n",
    "* Null values means there is data missing or not available. "
   ]
  },
  {
   "cell_type": "markdown",
   "metadata": {},
   "source": [
    "## Get the Data\n"
   ]
  },
  {
   "cell_type": "code",
   "execution_count": 2,
   "metadata": {},
   "outputs": [],
   "source": [
    "# Read csv file\n",
    "df = pd.read_csv('.../data.csv')"
   ]
  },
  {
   "cell_type": "code",
   "execution_count": 3,
   "metadata": {},
   "outputs": [],
   "source": [
    "# Rename columns and data cleaning\n",
    "df.rename(columns = {'Tax Year':'tax_year', 'Login Date':'login_date', \n",
    "                     'Completed_Product':'completed_product', 'Marketing_Channel':'marketing_channel',\n",
    "                    'CUSTOMER_TYPE':'customer_type', 'Login_Flag':'login_flag',\n",
    "                    'Completed':'completed', 'Session_Count':'session_count',\n",
    "                    'Price':'price'}, inplace = True) \n",
    "\n",
    "df['price'] = df['price'].str.lstrip(\"$\").replace('(null)', 0).fillna(0)\n",
    "df['price'] = pd.to_numeric(df['price']) "
   ]
  },
  {
   "cell_type": "code",
   "execution_count": 4,
   "metadata": {},
   "outputs": [
    {
     "name": "stdout",
     "output_type": "stream",
     "text": [
      "<class 'pandas.core.frame.DataFrame'>\n",
      "RangeIndex: 2000 entries, 0 to 1999\n",
      "Data columns (total 9 columns):\n",
      "tax_year             2000 non-null object\n",
      "login_date           2000 non-null object\n",
      "completed_product    2000 non-null object\n",
      "marketing_channel    2000 non-null object\n",
      "customer_type        2000 non-null object\n",
      "login_flag           2000 non-null int64\n",
      "completed            2000 non-null int64\n",
      "session_count        2000 non-null object\n",
      "price                2000 non-null float64\n",
      "dtypes: float64(1), int64(2), object(6)\n",
      "memory usage: 140.7+ KB\n"
     ]
    }
   ],
   "source": [
    "df.info()"
   ]
  },
  {
   "cell_type": "code",
   "execution_count": 5,
   "metadata": {},
   "outputs": [
    {
     "data": {
      "text/html": [
       "<div>\n",
       "<style scoped>\n",
       "    .dataframe tbody tr th:only-of-type {\n",
       "        vertical-align: middle;\n",
       "    }\n",
       "\n",
       "    .dataframe tbody tr th {\n",
       "        vertical-align: top;\n",
       "    }\n",
       "\n",
       "    .dataframe thead th {\n",
       "        text-align: right;\n",
       "    }\n",
       "</style>\n",
       "<table border=\"1\" class=\"dataframe\">\n",
       "  <thead>\n",
       "    <tr style=\"text-align: right;\">\n",
       "      <th></th>\n",
       "      <th>tax_year</th>\n",
       "      <th>login_date</th>\n",
       "      <th>completed_product</th>\n",
       "      <th>marketing_channel</th>\n",
       "      <th>customer_type</th>\n",
       "      <th>login_flag</th>\n",
       "      <th>completed</th>\n",
       "      <th>session_count</th>\n",
       "      <th>price</th>\n",
       "    </tr>\n",
       "  </thead>\n",
       "  <tbody>\n",
       "    <tr>\n",
       "      <th>0</th>\n",
       "      <td>TY13</td>\n",
       "      <td>12/31/2013</td>\n",
       "      <td>(null)</td>\n",
       "      <td>Paid Search</td>\n",
       "      <td>(null)</td>\n",
       "      <td>1</td>\n",
       "      <td>0</td>\n",
       "      <td>(null)</td>\n",
       "      <td>0.00</td>\n",
       "    </tr>\n",
       "    <tr>\n",
       "      <th>1</th>\n",
       "      <td>TY13</td>\n",
       "      <td>12/31/2013</td>\n",
       "      <td>Premier</td>\n",
       "      <td>Organic Search</td>\n",
       "      <td>New</td>\n",
       "      <td>1</td>\n",
       "      <td>1</td>\n",
       "      <td>0</td>\n",
       "      <td>59.99</td>\n",
       "    </tr>\n",
       "    <tr>\n",
       "      <th>2</th>\n",
       "      <td>TY13</td>\n",
       "      <td>1/2/2014</td>\n",
       "      <td>Deluxe</td>\n",
       "      <td>Organic Search</td>\n",
       "      <td>New</td>\n",
       "      <td>1</td>\n",
       "      <td>1</td>\n",
       "      <td>0</td>\n",
       "      <td>39.99</td>\n",
       "    </tr>\n",
       "    <tr>\n",
       "      <th>3</th>\n",
       "      <td>TY13</td>\n",
       "      <td>1/2/2014</td>\n",
       "      <td>Free</td>\n",
       "      <td>Non-Campaign</td>\n",
       "      <td>New</td>\n",
       "      <td>1</td>\n",
       "      <td>1</td>\n",
       "      <td>0</td>\n",
       "      <td>0.00</td>\n",
       "    </tr>\n",
       "    <tr>\n",
       "      <th>4</th>\n",
       "      <td>TY13</td>\n",
       "      <td>1/4/2014</td>\n",
       "      <td>Premier</td>\n",
       "      <td>Non-Campaign</td>\n",
       "      <td>New</td>\n",
       "      <td>1</td>\n",
       "      <td>1</td>\n",
       "      <td>0</td>\n",
       "      <td>59.99</td>\n",
       "    </tr>\n",
       "  </tbody>\n",
       "</table>\n",
       "</div>"
      ],
      "text/plain": [
       "  tax_year  login_date completed_product marketing_channel customer_type  \\\n",
       "0     TY13  12/31/2013            (null)       Paid Search        (null)   \n",
       "1     TY13  12/31/2013           Premier    Organic Search           New   \n",
       "2     TY13    1/2/2014            Deluxe    Organic Search           New   \n",
       "3     TY13    1/2/2014              Free      Non-Campaign           New   \n",
       "4     TY13    1/4/2014           Premier      Non-Campaign           New   \n",
       "\n",
       "   login_flag  completed session_count  price  \n",
       "0           1          0        (null)   0.00  \n",
       "1           1          1             0  59.99  \n",
       "2           1          1             0  39.99  \n",
       "3           1          1             0   0.00  \n",
       "4           1          1             0  59.99  "
      ]
     },
     "execution_count": 5,
     "metadata": {},
     "output_type": "execute_result"
    }
   ],
   "source": [
    "df.head()"
   ]
  },
  {
   "cell_type": "markdown",
   "metadata": {},
   "source": [
    "## Questions and Solutions"
   ]
  },
  {
   "cell_type": "markdown",
   "metadata": {},
   "source": [
    "____\n",
    "**Question 1: A new marketing manager joined the company and needs to be taught about our customer base. Prepare a quick summary that highlights some relevant features. One idea (among many) of the things that might be interesting to include: which customers and marketing channels are most valuable?**\n",
    "____"
   ]
  },
  {
   "cell_type": "markdown",
   "metadata": {},
   "source": [
    "**** Session Count Distribution ****"
   ]
  },
  {
   "cell_type": "code",
   "execution_count": 6,
   "metadata": {},
   "outputs": [
    {
     "data": {
      "text/plain": [
       "Text(0, 0.5, 'Count')"
      ]
     },
     "execution_count": 6,
     "metadata": {},
     "output_type": "execute_result"
    },
    {
     "data": {
      "image/png": "[encoded data removed]",
      "text/plain": [
       "<Figure size 864x576 with 1 Axes>"
      ]
     },
     "metadata": {
      "needs_background": "light"
     },
     "output_type": "display_data"
    }
   ],
   "source": [
    "# Distribution of times a customer logged in before completing\n",
    "plt.figure(figsize=(12, 8))\n",
    "ax = df['session_count'].value_counts(normalize = True).plot.bar()\n",
    "\n",
    "for p in ax.patches:\n",
    "    ax.annotate(format(p.get_height(), '.2f'), (p.get_x() + p.get_width() / 2., p.get_height()), ha = 'center', \n",
    "                va = 'center', xytext = (0, 10), textcoords = 'offset points')\n",
    "\n",
    "\n",
    "plt.title('Distribution of times a customer logged in before completing')\n",
    "plt.xlabel('Times a customer logged in before completing')\n",
    "plt.ylabel('Count')"
   ]
  },
  {
   "cell_type": "code",
   "execution_count": 7,
   "metadata": {},
   "outputs": [
    {
     "data": {
      "image/png": "[encoded data removed]",
      "text/plain": [
       "<Figure size 864x576 with 2 Axes>"
      ]
     },
     "metadata": {},
     "output_type": "display_data"
    }
   ],
   "source": [
    "# Visualization Practice\n",
    "ncount = len(df)\n",
    "\n",
    "sns.set_style(\"darkgrid\")\n",
    "plt.figure(figsize=(12, 8))\n",
    "ax = sns.countplot(x = 'session_count', data = df, palette = \"Set3\")\n",
    "plt.title('Distribution of Session')\n",
    "plt.xlabel('Session Count')\n",
    "\n",
    "# Make twin axis\n",
    "ax2 = ax.twinx()\n",
    "\n",
    "# Switch so count axis is on right, frequency on left\n",
    "ax2.yaxis.tick_left()\n",
    "ax.yaxis.tick_right()\n",
    "\n",
    "# Also switch the labels over\n",
    "ax.yaxis.set_label_position('right')\n",
    "ax2.yaxis.set_label_position('left')\n",
    "ax2.set_ylabel('Frequency [%]')\n",
    "\n",
    "for p in ax.patches:\n",
    "    x=p.get_bbox().get_points()[:,0]\n",
    "    y=p.get_bbox().get_points()[1,1]\n",
    "    ax.annotate('{:.1f}%'.format(100.*y/ncount), (x.mean(), y), \n",
    "            ha='center', va='bottom') # set the alignment of the text\n",
    "\n",
    "# Use a LinearLocator to ensure the correct number of ticks\n",
    "ax.yaxis.set_major_locator(ticker.LinearLocator(11))\n",
    "\n",
    "# Fix the frequency range to 0-100\n",
    "ax2.set_ylim(0,100)\n",
    "ax.set_ylim(0,ncount)\n",
    "\n",
    "# And use a MultipleLocator to ensure a tick spacing of 10\n",
    "ax2.yaxis.set_major_locator(ticker.MultipleLocator(10))\n",
    "\n",
    "# Need to turn the grid on ax2 off, otherwise the gridlines end up on top of the bars\n",
    "ax2.grid(None)"
   ]
  },
  {
   "cell_type": "markdown",
   "metadata": {},
   "source": [
    "**** Distribution of customers' login month ****"
   ]
  },
  {
   "cell_type": "code",
   "execution_count": 8,
   "metadata": {},
   "outputs": [
    {
     "data": {
      "text/html": [
       "<div>\n",
       "<style scoped>\n",
       "    .dataframe tbody tr th:only-of-type {\n",
       "        vertical-align: middle;\n",
       "    }\n",
       "\n",
       "    .dataframe tbody tr th {\n",
       "        vertical-align: top;\n",
       "    }\n",
       "\n",
       "    .dataframe thead th {\n",
       "        text-align: right;\n",
       "    }\n",
       "</style>\n",
       "<table border=\"1\" class=\"dataframe\">\n",
       "  <thead>\n",
       "    <tr style=\"text-align: right;\">\n",
       "      <th></th>\n",
       "      <th>tax_year</th>\n",
       "      <th>login_date</th>\n",
       "      <th>completed_product</th>\n",
       "      <th>marketing_channel</th>\n",
       "      <th>customer_type</th>\n",
       "      <th>login_flag</th>\n",
       "      <th>completed</th>\n",
       "      <th>session_count</th>\n",
       "      <th>price</th>\n",
       "      <th>login_month</th>\n",
       "    </tr>\n",
       "  </thead>\n",
       "  <tbody>\n",
       "    <tr>\n",
       "      <th>0</th>\n",
       "      <td>TY13</td>\n",
       "      <td>12/31/2013</td>\n",
       "      <td>(null)</td>\n",
       "      <td>Paid Search</td>\n",
       "      <td>(null)</td>\n",
       "      <td>1</td>\n",
       "      <td>0</td>\n",
       "      <td>(null)</td>\n",
       "      <td>0.00</td>\n",
       "      <td>12</td>\n",
       "    </tr>\n",
       "    <tr>\n",
       "      <th>1</th>\n",
       "      <td>TY13</td>\n",
       "      <td>12/31/2013</td>\n",
       "      <td>Premier</td>\n",
       "      <td>Organic Search</td>\n",
       "      <td>New</td>\n",
       "      <td>1</td>\n",
       "      <td>1</td>\n",
       "      <td>0</td>\n",
       "      <td>59.99</td>\n",
       "      <td>12</td>\n",
       "    </tr>\n",
       "    <tr>\n",
       "      <th>2</th>\n",
       "      <td>TY13</td>\n",
       "      <td>1/2/2014</td>\n",
       "      <td>Deluxe</td>\n",
       "      <td>Organic Search</td>\n",
       "      <td>New</td>\n",
       "      <td>1</td>\n",
       "      <td>1</td>\n",
       "      <td>0</td>\n",
       "      <td>39.99</td>\n",
       "      <td>1</td>\n",
       "    </tr>\n",
       "    <tr>\n",
       "      <th>3</th>\n",
       "      <td>TY13</td>\n",
       "      <td>1/2/2014</td>\n",
       "      <td>Free</td>\n",
       "      <td>Non-Campaign</td>\n",
       "      <td>New</td>\n",
       "      <td>1</td>\n",
       "      <td>1</td>\n",
       "      <td>0</td>\n",
       "      <td>0.00</td>\n",
       "      <td>1</td>\n",
       "    </tr>\n",
       "    <tr>\n",
       "      <th>4</th>\n",
       "      <td>TY13</td>\n",
       "      <td>1/4/2014</td>\n",
       "      <td>Premier</td>\n",
       "      <td>Non-Campaign</td>\n",
       "      <td>New</td>\n",
       "      <td>1</td>\n",
       "      <td>1</td>\n",
       "      <td>0</td>\n",
       "      <td>59.99</td>\n",
       "      <td>1</td>\n",
       "    </tr>\n",
       "  </tbody>\n",
       "</table>\n",
       "</div>"
      ],
      "text/plain": [
       "  tax_year  login_date completed_product marketing_channel customer_type  \\\n",
       "0     TY13  12/31/2013            (null)       Paid Search        (null)   \n",
       "1     TY13  12/31/2013           Premier    Organic Search           New   \n",
       "2     TY13    1/2/2014            Deluxe    Organic Search           New   \n",
       "3     TY13    1/2/2014              Free      Non-Campaign           New   \n",
       "4     TY13    1/4/2014           Premier      Non-Campaign           New   \n",
       "\n",
       "   login_flag  completed session_count  price login_month  \n",
       "0           1          0        (null)   0.00          12  \n",
       "1           1          1             0  59.99          12  \n",
       "2           1          1             0  39.99           1  \n",
       "3           1          1             0   0.00           1  \n",
       "4           1          1             0  59.99           1  "
      ]
     },
     "execution_count": 8,
     "metadata": {},
     "output_type": "execute_result"
    }
   ],
   "source": [
    "# Split the login_month as a column\n",
    "df['login_month'] = df['login_date'].str.split('/', 1, expand = True)[0]\n",
    "df.head()"
   ]
  },
  {
   "cell_type": "code",
   "execution_count": 9,
   "metadata": {},
   "outputs": [],
   "source": [
    "df10 = df[df['completed_product'] == 'Free']"
   ]
  },
  {
   "cell_type": "code",
   "execution_count": 10,
   "metadata": {},
   "outputs": [
    {
     "data": {
      "text/plain": [
       "Text(0, 0.5, 'Count')"
      ]
     },
     "execution_count": 10,
     "metadata": {},
     "output_type": "execute_result"
    },
    {
     "data": {
      "image/png": "[encoded data removed]",
      "text/plain": [
       "<Figure size 648x432 with 1 Axes>"
      ]
     },
     "metadata": {},
     "output_type": "display_data"
    }
   ],
   "source": [
    "# Plot distribution of customers' login month\n",
    "sns.set_style(\"darkgrid\")\n",
    "plt.figure(figsize=(9, 6))\n",
    "ax = sns.countplot(x = 'login_month', data = df10, palette = \"Set3\")\n",
    "\n",
    "for p in ax.patches:\n",
    "    ax.annotate(format(p.get_height(), '.2f'), (p.get_x() + p.get_width() / 2., p.get_height()), ha = 'center', \n",
    "                va = 'center', xytext = (0, 10), textcoords = 'offset points')\n",
    "\n",
    "\n",
    "plt.title('Distribution of Free Product Users Login Month')\n",
    "plt.xlabel('Login Month')\n",
    "plt.ylabel('Count')"
   ]
  },
  {
   "cell_type": "markdown",
   "metadata": {},
   "source": [
    "**** Distribution of Revenue by Month ****"
   ]
  },
  {
   "cell_type": "code",
   "execution_count": 11,
   "metadata": {},
   "outputs": [
    {
     "data": {
      "text/html": [
       "<div>\n",
       "<style scoped>\n",
       "    .dataframe tbody tr th:only-of-type {\n",
       "        vertical-align: middle;\n",
       "    }\n",
       "\n",
       "    .dataframe tbody tr th {\n",
       "        vertical-align: top;\n",
       "    }\n",
       "\n",
       "    .dataframe thead th {\n",
       "        text-align: right;\n",
       "    }\n",
       "</style>\n",
       "<table border=\"1\" class=\"dataframe\">\n",
       "  <thead>\n",
       "    <tr style=\"text-align: right;\">\n",
       "      <th></th>\n",
       "      <th>login_month</th>\n",
       "      <th>price</th>\n",
       "    </tr>\n",
       "  </thead>\n",
       "  <tbody>\n",
       "    <tr>\n",
       "      <th>0</th>\n",
       "      <td>2</td>\n",
       "      <td>14036.37</td>\n",
       "    </tr>\n",
       "    <tr>\n",
       "      <th>1</th>\n",
       "      <td>3</td>\n",
       "      <td>11397.76</td>\n",
       "    </tr>\n",
       "    <tr>\n",
       "      <th>2</th>\n",
       "      <td>4</td>\n",
       "      <td>10937.98</td>\n",
       "    </tr>\n",
       "    <tr>\n",
       "      <th>3</th>\n",
       "      <td>1</td>\n",
       "      <td>3439.21</td>\n",
       "    </tr>\n",
       "    <tr>\n",
       "      <th>4</th>\n",
       "      <td>12</td>\n",
       "      <td>59.99</td>\n",
       "    </tr>\n",
       "  </tbody>\n",
       "</table>\n",
       "</div>"
      ],
      "text/plain": [
       "  login_month     price\n",
       "0           2  14036.37\n",
       "1           3  11397.76\n",
       "2           4  10937.98\n",
       "3           1   3439.21\n",
       "4          12     59.99"
      ]
     },
     "execution_count": 11,
     "metadata": {},
     "output_type": "execute_result"
    }
   ],
   "source": [
    "# Calculate Revenue by moNTH\n",
    "df0 = df.groupby('login_month', as_index = False)['price'].sum()\n",
    "df0 = df0.sort_values(['price'], ascending = False).reset_index(drop = True)\n",
    "df0"
   ]
  },
  {
   "cell_type": "code",
   "execution_count": 12,
   "metadata": {},
   "outputs": [
    {
     "data": {
      "text/plain": [
       "Text(0, 0.5, 'Value')"
      ]
     },
     "execution_count": 12,
     "metadata": {},
     "output_type": "execute_result"
    },
    {
     "data": {
      "image/png": "[encoded data removed]",
      "text/plain": [
       "<Figure size 648x432 with 1 Axes>"
      ]
     },
     "metadata": {},
     "output_type": "display_data"
    }
   ],
   "source": [
    "# Barplot of Revenue by Login Month\n",
    "sns.set_style(\"darkgrid\")\n",
    "plt.figure(figsize=(9, 6))\n",
    "\n",
    "ax = sns.barplot(x = 'login_month', y = 'price', data = df0)\n",
    "                 #, palette = \"Set3\")\n",
    "\n",
    "for p in ax.patches:\n",
    "    ax.annotate(format(p.get_height(), '.2f'), (p.get_x() + p.get_width() / 2., p.get_height()), ha = 'center', \n",
    "                va = 'center', xytext = (0, 10), textcoords = 'offset points')\n",
    "\n",
    "plt.title('Revenue Contribution by Login Month')\n",
    "plt.xlabel('Login Month')\n",
    "plt.ylabel('Value')"
   ]
  },
  {
   "cell_type": "markdown",
   "metadata": {},
   "source": [
    "**** Revenue Contribution by Customer Type ****"
   ]
  },
  {
   "cell_type": "code",
   "execution_count": 13,
   "metadata": {},
   "outputs": [],
   "source": [
    "# Drop column 'login_month'\n",
    "df.drop('login_month', inplace = True, axis = 1)"
   ]
  },
  {
   "cell_type": "code",
   "execution_count": 14,
   "metadata": {},
   "outputs": [
    {
     "data": {
      "text/html": [
       "<div>\n",
       "<style scoped>\n",
       "    .dataframe tbody tr th:only-of-type {\n",
       "        vertical-align: middle;\n",
       "    }\n",
       "\n",
       "    .dataframe tbody tr th {\n",
       "        vertical-align: top;\n",
       "    }\n",
       "\n",
       "    .dataframe thead th {\n",
       "        text-align: right;\n",
       "    }\n",
       "</style>\n",
       "<table border=\"1\" class=\"dataframe\">\n",
       "  <thead>\n",
       "    <tr style=\"text-align: right;\">\n",
       "      <th></th>\n",
       "      <th>customer_type</th>\n",
       "      <th>price</th>\n",
       "    </tr>\n",
       "  </thead>\n",
       "  <tbody>\n",
       "    <tr>\n",
       "      <th>1</th>\n",
       "      <td>New</td>\n",
       "      <td>1739.52</td>\n",
       "    </tr>\n",
       "    <tr>\n",
       "      <th>2</th>\n",
       "      <td>Veteran</td>\n",
       "      <td>38131.79</td>\n",
       "    </tr>\n",
       "  </tbody>\n",
       "</table>\n",
       "</div>"
      ],
      "text/plain": [
       "  customer_type     price\n",
       "1           New   1739.52\n",
       "2       Veteran  38131.79"
      ]
     },
     "execution_count": 14,
     "metadata": {},
     "output_type": "execute_result"
    }
   ],
   "source": [
    "# Revenue Contribution by Customer Type\n",
    "# Calculate revenue generated from different Customer Type\n",
    "df1 = df.groupby('customer_type', as_index = False)['price'].sum()\n",
    "df1 = df1[df1['customer_type'] != '(null)']\n",
    "df1"
   ]
  },
  {
   "cell_type": "code",
   "execution_count": 15,
   "metadata": {},
   "outputs": [
    {
     "data": {
      "image/png": "[encoded data removed]",
      "text/plain": [
       "<Figure size 360x288 with 1 Axes>"
      ]
     },
     "metadata": {},
     "output_type": "display_data"
    }
   ],
   "source": [
    "# Pie Chart: Revenue Contribution by Customer Type\n",
    "plt.rcParams['figure.figsize'] = [5, 4]\n",
    "colors = ['yellowgreen','orange']\n",
    "\n",
    "plt.pie(df1['price'], labels = df1['customer_type'], autopct = '%.0f%%', \n",
    "        textprops = {'fontsize':15, 'color':'k'}, colors = colors)\n",
    "\n",
    "plt.axis('equal')\n",
    "\n",
    "plt.title('Revenue Contribution by Customer Type')\n",
    "plt.show()"
   ]
  },
  {
   "cell_type": "markdown",
   "metadata": {},
   "source": [
    "**** Revenue Contribution by Marketing Channel ****"
   ]
  },
  {
   "cell_type": "code",
   "execution_count": 16,
   "metadata": {},
   "outputs": [
    {
     "data": {
      "text/html": [
       "<div>\n",
       "<style scoped>\n",
       "    .dataframe tbody tr th:only-of-type {\n",
       "        vertical-align: middle;\n",
       "    }\n",
       "\n",
       "    .dataframe tbody tr th {\n",
       "        vertical-align: top;\n",
       "    }\n",
       "\n",
       "    .dataframe thead th {\n",
       "        text-align: right;\n",
       "    }\n",
       "</style>\n",
       "<table border=\"1\" class=\"dataframe\">\n",
       "  <thead>\n",
       "    <tr style=\"text-align: right;\">\n",
       "      <th></th>\n",
       "      <th>marketing_channel</th>\n",
       "      <th>price</th>\n",
       "    </tr>\n",
       "  </thead>\n",
       "  <tbody>\n",
       "    <tr>\n",
       "      <th>0</th>\n",
       "      <td>Non-Campaign</td>\n",
       "      <td>11457.61</td>\n",
       "    </tr>\n",
       "    <tr>\n",
       "      <th>1</th>\n",
       "      <td>Paid Search</td>\n",
       "      <td>9337.98</td>\n",
       "    </tr>\n",
       "    <tr>\n",
       "      <th>2</th>\n",
       "      <td>Organic Search</td>\n",
       "      <td>7938.14</td>\n",
       "    </tr>\n",
       "    <tr>\n",
       "      <th>3</th>\n",
       "      <td>DR</td>\n",
       "      <td>7218.42</td>\n",
       "    </tr>\n",
       "    <tr>\n",
       "      <th>4</th>\n",
       "      <td>FI Channel</td>\n",
       "      <td>2379.47</td>\n",
       "    </tr>\n",
       "    <tr>\n",
       "      <th>5</th>\n",
       "      <td>Affiliate</td>\n",
       "      <td>839.81</td>\n",
       "    </tr>\n",
       "    <tr>\n",
       "      <th>6</th>\n",
       "      <td>Display</td>\n",
       "      <td>599.89</td>\n",
       "    </tr>\n",
       "    <tr>\n",
       "      <th>7</th>\n",
       "      <td>Other</td>\n",
       "      <td>99.99</td>\n",
       "    </tr>\n",
       "    <tr>\n",
       "      <th>8</th>\n",
       "      <td>Internal</td>\n",
       "      <td>0.00</td>\n",
       "    </tr>\n",
       "  </tbody>\n",
       "</table>\n",
       "</div>"
      ],
      "text/plain": [
       "  marketing_channel     price\n",
       "0      Non-Campaign  11457.61\n",
       "1       Paid Search   9337.98\n",
       "2    Organic Search   7938.14\n",
       "3                DR   7218.42\n",
       "4        FI Channel   2379.47\n",
       "5         Affiliate    839.81\n",
       "6           Display    599.89\n",
       "7             Other     99.99\n",
       "8          Internal      0.00"
      ]
     },
     "execution_count": 16,
     "metadata": {},
     "output_type": "execute_result"
    }
   ],
   "source": [
    "# Revenue Contribution by Marketing Channel\n",
    "# Calculate revenue generated from multiple channels\n",
    "df2 = df.groupby('marketing_channel', as_index = False)['price'].sum()\n",
    "df2 = df2.sort_values(['price'], ascending = False).reset_index(drop = True)\n",
    "df2"
   ]
  },
  {
   "cell_type": "code",
   "execution_count": 50,
   "metadata": {},
   "outputs": [
    {
     "data": {
      "text/plain": [
       "0    0.287365\n",
       "1    0.234203\n",
       "2    0.199094\n",
       "3    0.181043\n",
       "4    0.059679\n",
       "5    0.021063\n",
       "6    0.015046\n",
       "7    0.002508\n",
       "8    0.000000\n",
       "Name: price, dtype: float64"
      ]
     },
     "execution_count": 50,
     "metadata": {},
     "output_type": "execute_result"
    }
   ],
   "source": [
    "df2['price']/df2['price'].sum()"
   ]
  },
  {
   "cell_type": "code",
   "execution_count": 17,
   "metadata": {},
   "outputs": [
    {
     "data": {
      "text/plain": [
       "Text(0, 0.5, 'Value')"
      ]
     },
     "execution_count": 17,
     "metadata": {},
     "output_type": "execute_result"
    },
    {
     "data": {
      "image/png": "[encoded data removed]",
      "text/plain": [
       "<Figure size 864x576 with 1 Axes>"
      ]
     },
     "metadata": {},
     "output_type": "display_data"
    }
   ],
   "source": [
    "# Barplot of revenue Contribution by Marketing Channel\n",
    "sns.set_style(\"darkgrid\")\n",
    "plt.figure(figsize=(12, 8))\n",
    "\n",
    "ax = sns.barplot(x = 'marketing_channel', y = 'price', data = df2\n",
    "                 , palette = \"Set3\")\n",
    "\n",
    "for p in ax.patches:\n",
    "    ax.annotate(format(p.get_height(), '.2f'), (p.get_x() + p.get_width() / 2., p.get_height()), ha = 'center', \n",
    "                va = 'center', xytext = (0, 10), textcoords = 'offset points')\n",
    "\n",
    "plt.title('Revenue Contribution by Marketing Channel')\n",
    "plt.xlabel('Marketing Channel')\n",
    "plt.ylabel('Value')"
   ]
  },
  {
   "cell_type": "markdown",
   "metadata": {},
   "source": [
    "**** Revenue Contribution by Product ****"
   ]
  },
  {
   "cell_type": "code",
   "execution_count": 18,
   "metadata": {},
   "outputs": [
    {
     "data": {
      "text/html": [
       "<div>\n",
       "<style scoped>\n",
       "    .dataframe tbody tr th:only-of-type {\n",
       "        vertical-align: middle;\n",
       "    }\n",
       "\n",
       "    .dataframe tbody tr th {\n",
       "        vertical-align: top;\n",
       "    }\n",
       "\n",
       "    .dataframe thead th {\n",
       "        text-align: right;\n",
       "    }\n",
       "</style>\n",
       "<table border=\"1\" class=\"dataframe\">\n",
       "  <thead>\n",
       "    <tr style=\"text-align: right;\">\n",
       "      <th></th>\n",
       "      <th>completed_product</th>\n",
       "      <th>price</th>\n",
       "    </tr>\n",
       "  </thead>\n",
       "  <tbody>\n",
       "    <tr>\n",
       "      <th>0</th>\n",
       "      <td>Deluxe</td>\n",
       "      <td>22253.60</td>\n",
       "    </tr>\n",
       "    <tr>\n",
       "      <th>1</th>\n",
       "      <td>H &amp; B</td>\n",
       "      <td>9699.03</td>\n",
       "    </tr>\n",
       "    <tr>\n",
       "      <th>2</th>\n",
       "      <td>Premier</td>\n",
       "      <td>7918.68</td>\n",
       "    </tr>\n",
       "    <tr>\n",
       "      <th>3</th>\n",
       "      <td>(null)</td>\n",
       "      <td>0.00</td>\n",
       "    </tr>\n",
       "    <tr>\n",
       "      <th>4</th>\n",
       "      <td>Free</td>\n",
       "      <td>0.00</td>\n",
       "    </tr>\n",
       "  </tbody>\n",
       "</table>\n",
       "</div>"
      ],
      "text/plain": [
       "  completed_product     price\n",
       "0            Deluxe  22253.60\n",
       "1             H & B   9699.03\n",
       "2           Premier   7918.68\n",
       "3            (null)      0.00\n",
       "4              Free      0.00"
      ]
     },
     "execution_count": 18,
     "metadata": {},
     "output_type": "execute_result"
    }
   ],
   "source": [
    "# Revenue contribution by product\n",
    "df5 = df.groupby('completed_product', as_index = False)['price'].sum()\n",
    "df5 = df5.sort_values(['price'], ascending = False).reset_index(drop = True)\n",
    "df5"
   ]
  },
  {
   "cell_type": "code",
   "execution_count": 51,
   "metadata": {},
   "outputs": [
    {
     "data": {
      "text/plain": [
       "0    0.558136\n",
       "1    0.243258\n",
       "2    0.198606\n",
       "3    0.000000\n",
       "4    0.000000\n",
       "Name: price, dtype: float64"
      ]
     },
     "execution_count": 51,
     "metadata": {},
     "output_type": "execute_result"
    }
   ],
   "source": [
    "df5['price']/df5['price'].sum()"
   ]
  },
  {
   "cell_type": "code",
   "execution_count": 19,
   "metadata": {},
   "outputs": [
    {
     "data": {
      "text/plain": [
       "Text(0, 0.5, 'Value')"
      ]
     },
     "execution_count": 19,
     "metadata": {},
     "output_type": "execute_result"
    },
    {
     "data": {
      "image/png": "[encoded data removed]",
      "text/plain": [
       "<Figure size 648x432 with 1 Axes>"
      ]
     },
     "metadata": {},
     "output_type": "display_data"
    }
   ],
   "source": [
    "# Barplot of revenue Contribution by product\n",
    "sns.set_style(\"darkgrid\")\n",
    "plt.figure(figsize=(9, 6))\n",
    "\n",
    "ax = sns.barplot(x = 'completed_product', y = 'price', data = df5, palette = \"Set3\")\n",
    "\n",
    "for p in ax.patches:\n",
    "    ax.annotate(format(p.get_height(), '.2f'), (p.get_x() + p.get_width() / 2., p.get_height()), ha = 'center', \n",
    "                va = 'center', xytext = (0, 10), textcoords = 'offset points')\n",
    "\n",
    "plt.title('Revenue Contribution by Product')\n",
    "plt.xlabel('Completed Product')\n",
    "plt.ylabel('Value')"
   ]
  },
  {
   "cell_type": "markdown",
   "metadata": {},
   "source": [
    "**** Distribution of Completed Deals after Login ****"
   ]
  },
  {
   "cell_type": "code",
   "execution_count": 20,
   "metadata": {},
   "outputs": [
    {
     "data": {
      "text/plain": [
       "1    1672\n",
       "0     328\n",
       "Name: completed, dtype: int64"
      ]
     },
     "execution_count": 20,
     "metadata": {},
     "output_type": "execute_result"
    }
   ],
   "source": [
    "# Number and Percentage of completed/incomplete deals\n",
    "df['completed'].value_counts()"
   ]
  },
  {
   "cell_type": "code",
   "execution_count": 21,
   "metadata": {},
   "outputs": [
    {
     "data": {
      "text/plain": [
       "1    0.836\n",
       "0    0.164\n",
       "Name: completed, dtype: float64"
      ]
     },
     "execution_count": 21,
     "metadata": {},
     "output_type": "execute_result"
    }
   ],
   "source": [
    "df['completed'].value_counts(normalize = True)"
   ]
  },
  {
   "cell_type": "code",
   "execution_count": 22,
   "metadata": {},
   "outputs": [
    {
     "data": {
      "text/plain": [
       "Non-Campaign      575\n",
       "Paid Search       504\n",
       "Organic Search    405\n",
       "DR                305\n",
       "FI Channel         90\n",
       "Affiliate          80\n",
       "Display            31\n",
       "Other               8\n",
       "Internal            2\n",
       "Name: marketing_channel, dtype: int64"
      ]
     },
     "execution_count": 22,
     "metadata": {},
     "output_type": "execute_result"
    }
   ],
   "source": [
    "# Number and Percentage of completed/incomplete deals by marketing channel\n",
    "df['marketing_channel'].value_counts()"
   ]
  },
  {
   "cell_type": "code",
   "execution_count": 23,
   "metadata": {},
   "outputs": [
    {
     "data": {
      "text/plain": [
       "marketing_channel  completed\n",
       "Affiliate          1             63\n",
       "                   0             17\n",
       "DR                 1            256\n",
       "                   0             49\n",
       "Display            1             26\n",
       "                   0              5\n",
       "FI Channel         1             87\n",
       "                   0              3\n",
       "Internal           0              1\n",
       "                   1              1\n",
       "Non-Campaign       1            452\n",
       "                   0            123\n",
       "Organic Search     1            343\n",
       "                   0             62\n",
       "Other              1              5\n",
       "                   0              3\n",
       "Paid Search        1            439\n",
       "                   0             65\n",
       "Name: completed, dtype: int64"
      ]
     },
     "execution_count": 23,
     "metadata": {},
     "output_type": "execute_result"
    }
   ],
   "source": [
    "# Number and percentage of completed deals by marketing channel\n",
    "df.groupby('marketing_channel')['completed'].value_counts()"
   ]
  },
  {
   "cell_type": "code",
   "execution_count": 24,
   "metadata": {},
   "outputs": [
    {
     "data": {
      "text/plain": [
       "marketing_channel  completed\n",
       "Affiliate          1            0.787500\n",
       "                   0            0.212500\n",
       "DR                 1            0.839344\n",
       "                   0            0.160656\n",
       "Display            1            0.838710\n",
       "                   0            0.161290\n",
       "FI Channel         1            0.966667\n",
       "                   0            0.033333\n",
       "Internal           0            0.500000\n",
       "                   1            0.500000\n",
       "Non-Campaign       1            0.786087\n",
       "                   0            0.213913\n",
       "Organic Search     1            0.846914\n",
       "                   0            0.153086\n",
       "Other              1            0.625000\n",
       "                   0            0.375000\n",
       "Paid Search        1            0.871032\n",
       "                   0            0.128968\n",
       "Name: completed, dtype: float64"
      ]
     },
     "execution_count": 24,
     "metadata": {},
     "output_type": "execute_result"
    }
   ],
   "source": [
    "df.groupby('marketing_channel')['completed'].value_counts(normalize = True)"
   ]
  },
  {
   "cell_type": "code",
   "execution_count": 25,
   "metadata": {},
   "outputs": [
    {
     "data": {
      "text/plain": [
       "Free       803\n",
       "Deluxe     640\n",
       "Premier    132\n",
       "H & B       97\n",
       "Name: completed_product, dtype: int64"
      ]
     },
     "execution_count": 25,
     "metadata": {},
     "output_type": "execute_result"
    }
   ],
   "source": [
    "# Among all 1672 completed deals, Number and Percentage of completed deals by product\n",
    "df3 = df[df['completed'] != 0]\n",
    "df3['completed_product'].value_counts()"
   ]
  },
  {
   "cell_type": "code",
   "execution_count": 26,
   "metadata": {},
   "outputs": [
    {
     "data": {
      "text/plain": [
       "Free       0.480263\n",
       "Deluxe     0.382775\n",
       "Premier    0.078947\n",
       "H & B      0.058014\n",
       "Name: completed_product, dtype: float64"
      ]
     },
     "execution_count": 26,
     "metadata": {},
     "output_type": "execute_result"
    }
   ],
   "source": [
    "df3['completed_product'].value_counts(normalize = True)"
   ]
  },
  {
   "cell_type": "code",
   "execution_count": 27,
   "metadata": {},
   "outputs": [
    {
     "data": {
      "text/plain": [
       "Veteran    0.925239\n",
       "New        0.074761\n",
       "Name: customer_type, dtype: float64"
      ]
     },
     "execution_count": 27,
     "metadata": {},
     "output_type": "execute_result"
    }
   ],
   "source": [
    "# Among all 1672 completed deals, Number and Percentage of completed deals by customer_type\n",
    "df3['customer_type'].value_counts(normalize = True)"
   ]
  },
  {
   "cell_type": "markdown",
   "metadata": {},
   "source": [
    "____\n",
    "**Question 2: We ran a discount promotion on one product in early 2015. Can you describe the promotion and make a recommendation as to whether it was successful? Should we run a similar promotion next year?**\n",
    "____"
   ]
  },
  {
   "cell_type": "code",
   "execution_count": 28,
   "metadata": {},
   "outputs": [
    {
     "data": {
      "text/html": [
       "<div>\n",
       "<style scoped>\n",
       "    .dataframe tbody tr th:only-of-type {\n",
       "        vertical-align: middle;\n",
       "    }\n",
       "\n",
       "    .dataframe tbody tr th {\n",
       "        vertical-align: top;\n",
       "    }\n",
       "\n",
       "    .dataframe thead th {\n",
       "        text-align: right;\n",
       "    }\n",
       "</style>\n",
       "<table border=\"1\" class=\"dataframe\">\n",
       "  <thead>\n",
       "    <tr style=\"text-align: right;\">\n",
       "      <th></th>\n",
       "      <th>tax_year</th>\n",
       "      <th>completed_product</th>\n",
       "      <th>price</th>\n",
       "    </tr>\n",
       "  </thead>\n",
       "  <tbody>\n",
       "    <tr>\n",
       "      <th>0</th>\n",
       "      <td>TY13</td>\n",
       "      <td>Deluxe</td>\n",
       "      <td>39.99</td>\n",
       "    </tr>\n",
       "    <tr>\n",
       "      <th>1</th>\n",
       "      <td>TY13</td>\n",
       "      <td>Free</td>\n",
       "      <td>0.00</td>\n",
       "    </tr>\n",
       "    <tr>\n",
       "      <th>2</th>\n",
       "      <td>TY13</td>\n",
       "      <td>H &amp; B</td>\n",
       "      <td>99.99</td>\n",
       "    </tr>\n",
       "    <tr>\n",
       "      <th>3</th>\n",
       "      <td>TY13</td>\n",
       "      <td>Premier</td>\n",
       "      <td>59.99</td>\n",
       "    </tr>\n",
       "    <tr>\n",
       "      <th>4</th>\n",
       "      <td>TY14</td>\n",
       "      <td>Deluxe</td>\n",
       "      <td>39.99</td>\n",
       "    </tr>\n",
       "    <tr>\n",
       "      <th>5</th>\n",
       "      <td>TY14</td>\n",
       "      <td>Deluxe</td>\n",
       "      <td>19.99</td>\n",
       "    </tr>\n",
       "    <tr>\n",
       "      <th>6</th>\n",
       "      <td>TY14</td>\n",
       "      <td>Free</td>\n",
       "      <td>0.00</td>\n",
       "    </tr>\n",
       "    <tr>\n",
       "      <th>7</th>\n",
       "      <td>TY14</td>\n",
       "      <td>H &amp; B</td>\n",
       "      <td>99.99</td>\n",
       "    </tr>\n",
       "    <tr>\n",
       "      <th>8</th>\n",
       "      <td>TY14</td>\n",
       "      <td>Premier</td>\n",
       "      <td>59.99</td>\n",
       "    </tr>\n",
       "  </tbody>\n",
       "</table>\n",
       "</div>"
      ],
      "text/plain": [
       "  tax_year completed_product  price\n",
       "0     TY13            Deluxe  39.99\n",
       "1     TY13              Free   0.00\n",
       "2     TY13             H & B  99.99\n",
       "3     TY13           Premier  59.99\n",
       "4     TY14            Deluxe  39.99\n",
       "5     TY14            Deluxe  19.99\n",
       "6     TY14              Free   0.00\n",
       "7     TY14             H & B  99.99\n",
       "8     TY14           Premier  59.99"
      ]
     },
     "execution_count": 28,
     "metadata": {},
     "output_type": "execute_result"
    }
   ],
   "source": [
    "# Identify the product that was in 2015 discount promotion\n",
    "df9 = df[df['completed_product'] != '(null)'][['tax_year', 'completed_product', 'price']].drop_duplicates().sort_values([\n",
    "    'tax_year', 'completed_product'], ascending = True).reset_index(drop = True)\n",
    "df9\n",
    "\n",
    "# It's Deluxe. Regular price is $39.99, and promotion price is $ 19.99."
   ]
  },
  {
   "cell_type": "code",
   "execution_count": 29,
   "metadata": {},
   "outputs": [
    {
     "data": {
      "text/html": [
       "<div>\n",
       "<style scoped>\n",
       "    .dataframe tbody tr th:only-of-type {\n",
       "        vertical-align: middle;\n",
       "    }\n",
       "\n",
       "    .dataframe tbody tr th {\n",
       "        vertical-align: top;\n",
       "    }\n",
       "\n",
       "    .dataframe thead th {\n",
       "        text-align: right;\n",
       "    }\n",
       "</style>\n",
       "<table border=\"1\" class=\"dataframe\">\n",
       "  <thead>\n",
       "    <tr style=\"text-align: right;\">\n",
       "      <th></th>\n",
       "      <th>tax_year</th>\n",
       "      <th>completed_product</th>\n",
       "      <th>price</th>\n",
       "      <th>completed</th>\n",
       "    </tr>\n",
       "  </thead>\n",
       "  <tbody>\n",
       "    <tr>\n",
       "      <th>0</th>\n",
       "      <td>TY13</td>\n",
       "      <td>Deluxe</td>\n",
       "      <td>39.99</td>\n",
       "      <td>276</td>\n",
       "    </tr>\n",
       "    <tr>\n",
       "      <th>1</th>\n",
       "      <td>TY13</td>\n",
       "      <td>Free</td>\n",
       "      <td>0.00</td>\n",
       "      <td>374</td>\n",
       "    </tr>\n",
       "    <tr>\n",
       "      <th>2</th>\n",
       "      <td>TY13</td>\n",
       "      <td>H &amp; B</td>\n",
       "      <td>99.99</td>\n",
       "      <td>55</td>\n",
       "    </tr>\n",
       "    <tr>\n",
       "      <th>3</th>\n",
       "      <td>TY13</td>\n",
       "      <td>Premier</td>\n",
       "      <td>59.99</td>\n",
       "      <td>60</td>\n",
       "    </tr>\n",
       "    <tr>\n",
       "      <th>4</th>\n",
       "      <td>TY14</td>\n",
       "      <td>Deluxe</td>\n",
       "      <td>19.99</td>\n",
       "      <td>167</td>\n",
       "    </tr>\n",
       "    <tr>\n",
       "      <th>5</th>\n",
       "      <td>TY14</td>\n",
       "      <td>Deluxe</td>\n",
       "      <td>39.99</td>\n",
       "      <td>197</td>\n",
       "    </tr>\n",
       "    <tr>\n",
       "      <th>6</th>\n",
       "      <td>TY14</td>\n",
       "      <td>Free</td>\n",
       "      <td>0.00</td>\n",
       "      <td>429</td>\n",
       "    </tr>\n",
       "    <tr>\n",
       "      <th>7</th>\n",
       "      <td>TY14</td>\n",
       "      <td>H &amp; B</td>\n",
       "      <td>99.99</td>\n",
       "      <td>42</td>\n",
       "    </tr>\n",
       "    <tr>\n",
       "      <th>8</th>\n",
       "      <td>TY14</td>\n",
       "      <td>Premier</td>\n",
       "      <td>59.99</td>\n",
       "      <td>72</td>\n",
       "    </tr>\n",
       "  </tbody>\n",
       "</table>\n",
       "</div>"
      ],
      "text/plain": [
       "  tax_year completed_product  price  completed\n",
       "0     TY13            Deluxe  39.99        276\n",
       "1     TY13              Free   0.00        374\n",
       "2     TY13             H & B  99.99         55\n",
       "3     TY13           Premier  59.99         60\n",
       "4     TY14            Deluxe  19.99        167\n",
       "5     TY14            Deluxe  39.99        197\n",
       "6     TY14              Free   0.00        429\n",
       "7     TY14             H & B  99.99         42\n",
       "8     TY14           Premier  59.99         72"
      ]
     },
     "execution_count": 29,
     "metadata": {},
     "output_type": "execute_result"
    }
   ],
   "source": [
    "df[df['completed_product'] != '(null)'].groupby(['tax_year', \n",
    "                                        'completed_product', 'price'])['completed'].count().reset_index()"
   ]
  },
  {
   "cell_type": "code",
   "execution_count": 30,
   "metadata": {},
   "outputs": [
    {
     "data": {
      "text/plain": [
       "0.167"
      ]
     },
     "execution_count": 30,
     "metadata": {},
     "output_type": "execute_result"
    }
   ],
   "source": [
    "167/(93 + 167 + 197 + 429 + 42 + 72)"
   ]
  },
  {
   "cell_type": "code",
   "execution_count": 31,
   "metadata": {},
   "outputs": [
    {
     "data": {
      "text/html": [
       "<div>\n",
       "<style scoped>\n",
       "    .dataframe tbody tr th:only-of-type {\n",
       "        vertical-align: middle;\n",
       "    }\n",
       "\n",
       "    .dataframe tbody tr th {\n",
       "        vertical-align: top;\n",
       "    }\n",
       "\n",
       "    .dataframe thead th {\n",
       "        text-align: right;\n",
       "    }\n",
       "</style>\n",
       "<table border=\"1\" class=\"dataframe\">\n",
       "  <thead>\n",
       "    <tr style=\"text-align: right;\">\n",
       "      <th></th>\n",
       "      <th>tax_year</th>\n",
       "      <th>completed_product</th>\n",
       "      <th>price</th>\n",
       "    </tr>\n",
       "  </thead>\n",
       "  <tbody>\n",
       "    <tr>\n",
       "      <th>0</th>\n",
       "      <td>TY13</td>\n",
       "      <td>Deluxe</td>\n",
       "      <td>11037.24</td>\n",
       "    </tr>\n",
       "    <tr>\n",
       "      <th>1</th>\n",
       "      <td>TY14</td>\n",
       "      <td>Deluxe</td>\n",
       "      <td>11216.36</td>\n",
       "    </tr>\n",
       "  </tbody>\n",
       "</table>\n",
       "</div>"
      ],
      "text/plain": [
       "  tax_year completed_product     price\n",
       "0     TY13            Deluxe  11037.24\n",
       "1     TY14            Deluxe  11216.36"
      ]
     },
     "execution_count": 31,
     "metadata": {},
     "output_type": "execute_result"
    }
   ],
   "source": [
    "# Calculate total revenue from Deluxe in TY13 and TY14 to measure\n",
    "df[df['completed_product'] == 'Deluxe'].groupby(['tax_year', 'completed_product'], as_index = False)['price'].sum()"
   ]
  },
  {
   "cell_type": "code",
   "execution_count": 32,
   "metadata": {},
   "outputs": [
    {
     "data": {
      "text/html": [
       "<div>\n",
       "<style scoped>\n",
       "    .dataframe tbody tr th:only-of-type {\n",
       "        vertical-align: middle;\n",
       "    }\n",
       "\n",
       "    .dataframe tbody tr th {\n",
       "        vertical-align: top;\n",
       "    }\n",
       "\n",
       "    .dataframe thead th {\n",
       "        text-align: right;\n",
       "    }\n",
       "</style>\n",
       "<table border=\"1\" class=\"dataframe\">\n",
       "  <thead>\n",
       "    <tr style=\"text-align: right;\">\n",
       "      <th></th>\n",
       "      <th>tax_year</th>\n",
       "      <th>price</th>\n",
       "    </tr>\n",
       "  </thead>\n",
       "  <tbody>\n",
       "    <tr>\n",
       "      <th>0</th>\n",
       "      <td>TY13</td>\n",
       "      <td>20136.09</td>\n",
       "    </tr>\n",
       "    <tr>\n",
       "      <th>1</th>\n",
       "      <td>TY14</td>\n",
       "      <td>19735.22</td>\n",
       "    </tr>\n",
       "  </tbody>\n",
       "</table>\n",
       "</div>"
      ],
      "text/plain": [
       "  tax_year     price\n",
       "0     TY13  20136.09\n",
       "1     TY14  19735.22"
      ]
     },
     "execution_count": 32,
     "metadata": {},
     "output_type": "execute_result"
    }
   ],
   "source": [
    "# Calculate total revenue for TY13 and TY14\n",
    "df[df['completed_product'] != '(null)'].groupby(['tax_year'], as_index = False)['price'].sum()\n",
    "\n",
    "# 39871.31 in total"
   ]
  },
  {
   "cell_type": "code",
   "execution_count": 33,
   "metadata": {},
   "outputs": [
    {
     "data": {
      "text/html": [
       "<div>\n",
       "<style scoped>\n",
       "    .dataframe tbody tr th:only-of-type {\n",
       "        vertical-align: middle;\n",
       "    }\n",
       "\n",
       "    .dataframe tbody tr th {\n",
       "        vertical-align: top;\n",
       "    }\n",
       "\n",
       "    .dataframe thead th {\n",
       "        text-align: right;\n",
       "    }\n",
       "</style>\n",
       "<table border=\"1\" class=\"dataframe\">\n",
       "  <thead>\n",
       "    <tr style=\"text-align: right;\">\n",
       "      <th></th>\n",
       "      <th>tax_year</th>\n",
       "      <th>completed_product</th>\n",
       "      <th>completed</th>\n",
       "    </tr>\n",
       "  </thead>\n",
       "  <tbody>\n",
       "    <tr>\n",
       "      <th>0</th>\n",
       "      <td>TY13</td>\n",
       "      <td>Deluxe</td>\n",
       "      <td>276</td>\n",
       "    </tr>\n",
       "    <tr>\n",
       "      <th>1</th>\n",
       "      <td>TY13</td>\n",
       "      <td>Free</td>\n",
       "      <td>374</td>\n",
       "    </tr>\n",
       "    <tr>\n",
       "      <th>2</th>\n",
       "      <td>TY13</td>\n",
       "      <td>H &amp; B</td>\n",
       "      <td>55</td>\n",
       "    </tr>\n",
       "    <tr>\n",
       "      <th>3</th>\n",
       "      <td>TY13</td>\n",
       "      <td>Premier</td>\n",
       "      <td>60</td>\n",
       "    </tr>\n",
       "    <tr>\n",
       "      <th>4</th>\n",
       "      <td>TY14</td>\n",
       "      <td>Deluxe</td>\n",
       "      <td>364</td>\n",
       "    </tr>\n",
       "    <tr>\n",
       "      <th>5</th>\n",
       "      <td>TY14</td>\n",
       "      <td>Free</td>\n",
       "      <td>429</td>\n",
       "    </tr>\n",
       "    <tr>\n",
       "      <th>6</th>\n",
       "      <td>TY14</td>\n",
       "      <td>H &amp; B</td>\n",
       "      <td>42</td>\n",
       "    </tr>\n",
       "    <tr>\n",
       "      <th>7</th>\n",
       "      <td>TY14</td>\n",
       "      <td>Premier</td>\n",
       "      <td>72</td>\n",
       "    </tr>\n",
       "  </tbody>\n",
       "</table>\n",
       "</div>"
      ],
      "text/plain": [
       "  tax_year completed_product  completed\n",
       "0     TY13            Deluxe        276\n",
       "1     TY13              Free        374\n",
       "2     TY13             H & B         55\n",
       "3     TY13           Premier         60\n",
       "4     TY14            Deluxe        364\n",
       "5     TY14              Free        429\n",
       "6     TY14             H & B         42\n",
       "7     TY14           Premier         72"
      ]
     },
     "execution_count": 33,
     "metadata": {},
     "output_type": "execute_result"
    }
   ],
   "source": [
    "# Sales volume for TY13 and TY14 per product  \n",
    "df[df['completed_product'] != '(null)'].groupby(['tax_year', 'completed_product'], \n",
    "                                                as_index = False)['completed'].count()"
   ]
  },
  {
   "cell_type": "code",
   "execution_count": 34,
   "metadata": {},
   "outputs": [
    {
     "data": {
      "text/html": [
       "<div>\n",
       "<style scoped>\n",
       "    .dataframe tbody tr th:only-of-type {\n",
       "        vertical-align: middle;\n",
       "    }\n",
       "\n",
       "    .dataframe tbody tr th {\n",
       "        vertical-align: top;\n",
       "    }\n",
       "\n",
       "    .dataframe thead th {\n",
       "        text-align: right;\n",
       "    }\n",
       "</style>\n",
       "<table border=\"1\" class=\"dataframe\">\n",
       "  <thead>\n",
       "    <tr style=\"text-align: right;\">\n",
       "      <th></th>\n",
       "      <th>tax_year</th>\n",
       "      <th>completed_product</th>\n",
       "    </tr>\n",
       "  </thead>\n",
       "  <tbody>\n",
       "    <tr>\n",
       "      <th>0</th>\n",
       "      <td>TY13</td>\n",
       "      <td>765</td>\n",
       "    </tr>\n",
       "    <tr>\n",
       "      <th>1</th>\n",
       "      <td>TY14</td>\n",
       "      <td>907</td>\n",
       "    </tr>\n",
       "  </tbody>\n",
       "</table>\n",
       "</div>"
      ],
      "text/plain": [
       "  tax_year  completed_product\n",
       "0     TY13                765\n",
       "1     TY14                907"
      ]
     },
     "execution_count": 34,
     "metadata": {},
     "output_type": "execute_result"
    }
   ],
   "source": [
    "# Sales volume for TY13 and TY14 \n",
    "df[df['completed_product'] != '(null)'].groupby(['tax_year'], \n",
    "                                                as_index = False)['completed_product'].count()"
   ]
  },
  {
   "cell_type": "code",
   "execution_count": 35,
   "metadata": {},
   "outputs": [
    {
     "data": {
      "text/plain": [
       "0.2"
      ]
     },
     "execution_count": 35,
     "metadata": {},
     "output_type": "execute_result"
    }
   ],
   "source": [
    "12/60"
   ]
  },
  {
   "cell_type": "code",
   "execution_count": 36,
   "metadata": {},
   "outputs": [
    {
     "data": {
      "text/html": [
       "<div>\n",
       "<style scoped>\n",
       "    .dataframe tbody tr th:only-of-type {\n",
       "        vertical-align: middle;\n",
       "    }\n",
       "\n",
       "    .dataframe tbody tr th {\n",
       "        vertical-align: top;\n",
       "    }\n",
       "\n",
       "    .dataframe thead th {\n",
       "        text-align: right;\n",
       "    }\n",
       "</style>\n",
       "<table border=\"1\" class=\"dataframe\">\n",
       "  <thead>\n",
       "    <tr style=\"text-align: right;\">\n",
       "      <th></th>\n",
       "      <th>tax_year</th>\n",
       "      <th>completed_product</th>\n",
       "      <th>marketing_channel</th>\n",
       "      <th>completed</th>\n",
       "    </tr>\n",
       "  </thead>\n",
       "  <tbody>\n",
       "    <tr>\n",
       "      <th>0</th>\n",
       "      <td>TY13</td>\n",
       "      <td>Deluxe</td>\n",
       "      <td>Affiliate</td>\n",
       "      <td>7</td>\n",
       "    </tr>\n",
       "    <tr>\n",
       "      <th>1</th>\n",
       "      <td>TY13</td>\n",
       "      <td>Deluxe</td>\n",
       "      <td>DR</td>\n",
       "      <td>54</td>\n",
       "    </tr>\n",
       "    <tr>\n",
       "      <th>2</th>\n",
       "      <td>TY13</td>\n",
       "      <td>Deluxe</td>\n",
       "      <td>Display</td>\n",
       "      <td>6</td>\n",
       "    </tr>\n",
       "    <tr>\n",
       "      <th>3</th>\n",
       "      <td>TY13</td>\n",
       "      <td>Deluxe</td>\n",
       "      <td>FI Channel</td>\n",
       "      <td>6</td>\n",
       "    </tr>\n",
       "    <tr>\n",
       "      <th>4</th>\n",
       "      <td>TY13</td>\n",
       "      <td>Deluxe</td>\n",
       "      <td>Non-Campaign</td>\n",
       "      <td>71</td>\n",
       "    </tr>\n",
       "    <tr>\n",
       "      <th>5</th>\n",
       "      <td>TY13</td>\n",
       "      <td>Deluxe</td>\n",
       "      <td>Organic Search</td>\n",
       "      <td>58</td>\n",
       "    </tr>\n",
       "    <tr>\n",
       "      <th>6</th>\n",
       "      <td>TY13</td>\n",
       "      <td>Deluxe</td>\n",
       "      <td>Paid Search</td>\n",
       "      <td>74</td>\n",
       "    </tr>\n",
       "    <tr>\n",
       "      <th>7</th>\n",
       "      <td>TY14</td>\n",
       "      <td>Deluxe</td>\n",
       "      <td>Affiliate</td>\n",
       "      <td>7</td>\n",
       "    </tr>\n",
       "    <tr>\n",
       "      <th>8</th>\n",
       "      <td>TY14</td>\n",
       "      <td>Deluxe</td>\n",
       "      <td>DR</td>\n",
       "      <td>57</td>\n",
       "    </tr>\n",
       "    <tr>\n",
       "      <th>9</th>\n",
       "      <td>TY14</td>\n",
       "      <td>Deluxe</td>\n",
       "      <td>Display</td>\n",
       "      <td>2</td>\n",
       "    </tr>\n",
       "    <tr>\n",
       "      <th>10</th>\n",
       "      <td>TY14</td>\n",
       "      <td>Deluxe</td>\n",
       "      <td>FI Channel</td>\n",
       "      <td>29</td>\n",
       "    </tr>\n",
       "    <tr>\n",
       "      <th>11</th>\n",
       "      <td>TY14</td>\n",
       "      <td>Deluxe</td>\n",
       "      <td>Non-Campaign</td>\n",
       "      <td>100</td>\n",
       "    </tr>\n",
       "    <tr>\n",
       "      <th>12</th>\n",
       "      <td>TY14</td>\n",
       "      <td>Deluxe</td>\n",
       "      <td>Organic Search</td>\n",
       "      <td>91</td>\n",
       "    </tr>\n",
       "    <tr>\n",
       "      <th>13</th>\n",
       "      <td>TY14</td>\n",
       "      <td>Deluxe</td>\n",
       "      <td>Paid Search</td>\n",
       "      <td>78</td>\n",
       "    </tr>\n",
       "  </tbody>\n",
       "</table>\n",
       "</div>"
      ],
      "text/plain": [
       "   tax_year completed_product marketing_channel  completed\n",
       "0      TY13            Deluxe         Affiliate          7\n",
       "1      TY13            Deluxe                DR         54\n",
       "2      TY13            Deluxe           Display          6\n",
       "3      TY13            Deluxe        FI Channel          6\n",
       "4      TY13            Deluxe      Non-Campaign         71\n",
       "5      TY13            Deluxe    Organic Search         58\n",
       "6      TY13            Deluxe       Paid Search         74\n",
       "7      TY14            Deluxe         Affiliate          7\n",
       "8      TY14            Deluxe                DR         57\n",
       "9      TY14            Deluxe           Display          2\n",
       "10     TY14            Deluxe        FI Channel         29\n",
       "11     TY14            Deluxe      Non-Campaign        100\n",
       "12     TY14            Deluxe    Organic Search         91\n",
       "13     TY14            Deluxe       Paid Search         78"
      ]
     },
     "execution_count": 36,
     "metadata": {},
     "output_type": "execute_result"
    }
   ],
   "source": [
    "# Sales volume for TY13 and TY14 per marketing channel and product   -- can edit product name\n",
    "df[(df['completed_product'] != '(null)') & (df['completed_product'] == 'Deluxe')].groupby(['tax_year', \n",
    "                   'completed_product', 'marketing_channel'], as_index = False)['completed'].count()"
   ]
  },
  {
   "cell_type": "markdown",
   "metadata": {},
   "source": [
    "*Suggestions:*"
   ]
  },
  {
   "cell_type": "markdown",
   "metadata": {},
   "source": [
    "- Revenue: Total revenue -400.87 (-2.00%). Revenue from H&B drops from 5499.99 to 4199.58 (-1300.41, -2.37%) while Revenue from Deluxe increases from 11037.24 to 11216.36 (+ 178.12, +1.61%), premier increase from 3599.40 to 4319.28 (+719.88, 2.00%).\n",
    "___\n",
    "- Sales Volume: Total volume +142. H&B net -13 (Non-campaign -8, Paid-Search -12), Deluxe net +88(FI Channel +23, Non-campaign +29, Organic Search +33), Free +55, Premier +12.\n",
    "___\n",
    "- Not conclusive to say whether it's successful given the current information. From the revenue side, revenue from Deluxe increase 1.61% while the total year revenue decrease 2.00%, however, the number of total users increase 19%, among them, # of Deluxe users increase 32% while # of H&B decrease 24%.\n",
    "- We sacrifice some revenue to increase market share. If total revenue is the goal, false; if Deluxe revenue is the goal, win. If market share of total or Deluxe are the goal, win. \n",
    "___\n",
    "- Depends on the objective of this year. BUT, need to know costs of promotion to calculate the profit.\n"
   ]
  },
  {
   "cell_type": "markdown",
   "metadata": {},
   "source": [
    "____\n",
    "**Question 3: The company wants to grow the free product next year. Make a recommendation as to which marketing channel(s) we should invest in. Should we focus on a particular time of year?**\n",
    "____"
   ]
  },
  {
   "cell_type": "code",
   "execution_count": 37,
   "metadata": {},
   "outputs": [
    {
     "data": {
      "text/html": [
       "<div>\n",
       "<style scoped>\n",
       "    .dataframe tbody tr th:only-of-type {\n",
       "        vertical-align: middle;\n",
       "    }\n",
       "\n",
       "    .dataframe tbody tr th {\n",
       "        vertical-align: top;\n",
       "    }\n",
       "\n",
       "    .dataframe thead th {\n",
       "        text-align: right;\n",
       "    }\n",
       "</style>\n",
       "<table border=\"1\" class=\"dataframe\">\n",
       "  <thead>\n",
       "    <tr style=\"text-align: right;\">\n",
       "      <th></th>\n",
       "      <th>marketing_channel</th>\n",
       "      <th>price</th>\n",
       "    </tr>\n",
       "  </thead>\n",
       "  <tbody>\n",
       "    <tr>\n",
       "      <th>0</th>\n",
       "      <td>Non-Campaign</td>\n",
       "      <td>11457.61</td>\n",
       "    </tr>\n",
       "    <tr>\n",
       "      <th>1</th>\n",
       "      <td>Paid Search</td>\n",
       "      <td>9337.98</td>\n",
       "    </tr>\n",
       "    <tr>\n",
       "      <th>2</th>\n",
       "      <td>Organic Search</td>\n",
       "      <td>7938.14</td>\n",
       "    </tr>\n",
       "    <tr>\n",
       "      <th>3</th>\n",
       "      <td>DR</td>\n",
       "      <td>7218.42</td>\n",
       "    </tr>\n",
       "    <tr>\n",
       "      <th>4</th>\n",
       "      <td>FI Channel</td>\n",
       "      <td>2379.47</td>\n",
       "    </tr>\n",
       "    <tr>\n",
       "      <th>5</th>\n",
       "      <td>Affiliate</td>\n",
       "      <td>839.81</td>\n",
       "    </tr>\n",
       "    <tr>\n",
       "      <th>6</th>\n",
       "      <td>Display</td>\n",
       "      <td>599.89</td>\n",
       "    </tr>\n",
       "    <tr>\n",
       "      <th>7</th>\n",
       "      <td>Other</td>\n",
       "      <td>99.99</td>\n",
       "    </tr>\n",
       "    <tr>\n",
       "      <th>8</th>\n",
       "      <td>Internal</td>\n",
       "      <td>0.00</td>\n",
       "    </tr>\n",
       "  </tbody>\n",
       "</table>\n",
       "</div>"
      ],
      "text/plain": [
       "  marketing_channel     price\n",
       "0      Non-Campaign  11457.61\n",
       "1       Paid Search   9337.98\n",
       "2    Organic Search   7938.14\n",
       "3                DR   7218.42\n",
       "4        FI Channel   2379.47\n",
       "5         Affiliate    839.81\n",
       "6           Display    599.89\n",
       "7             Other     99.99\n",
       "8          Internal      0.00"
      ]
     },
     "execution_count": 37,
     "metadata": {},
     "output_type": "execute_result"
    }
   ],
   "source": [
    "df2"
   ]
  },
  {
   "cell_type": "code",
   "execution_count": 38,
   "metadata": {},
   "outputs": [
    {
     "data": {
      "text/plain": [
       "Text(0, 0.5, 'Value')"
      ]
     },
     "execution_count": 38,
     "metadata": {},
     "output_type": "execute_result"
    },
    {
     "data": {
      "image/png": "[encoded data removed]",
      "text/plain": [
       "<Figure size 864x576 with 1 Axes>"
      ]
     },
     "metadata": {},
     "output_type": "display_data"
    }
   ],
   "source": [
    "# Revenue Per Channel\n",
    "sns.set_style(\"darkgrid\")\n",
    "plt.figure(figsize=(12, 8))\n",
    "\n",
    "ax = sns.barplot(x = 'marketing_channel', y = 'price', data = df2\n",
    "                 , palette = \"Set3\")\n",
    "\n",
    "for p in ax.patches:\n",
    "    ax.annotate(format(p.get_height(), '.2f'), (p.get_x() + p.get_width() / 2., p.get_height()), ha = 'center', \n",
    "                va = 'center', xytext = (0, 10), textcoords = 'offset points')\n",
    "\n",
    "plt.title('Revenue Contribution by Marketing Channel')\n",
    "plt.xlabel('Marketing Channel')\n",
    "plt.ylabel('Value')"
   ]
  },
  {
   "cell_type": "code",
   "execution_count": 39,
   "metadata": {},
   "outputs": [
    {
     "data": {
      "text/plain": [
       "marketing_channel\n",
       "Affiliate          80\n",
       "DR                305\n",
       "Display            31\n",
       "FI Channel         90\n",
       "Internal            2\n",
       "Non-Campaign      575\n",
       "Organic Search    405\n",
       "Other               8\n",
       "Paid Search       504\n",
       "Name: completed, dtype: int64"
      ]
     },
     "execution_count": 39,
     "metadata": {},
     "output_type": "execute_result"
    }
   ],
   "source": [
    "# Completed Number Per Channel\n",
    "df.groupby('marketing_channel')['completed'].count()"
   ]
  },
  {
   "cell_type": "code",
   "execution_count": 40,
   "metadata": {},
   "outputs": [
    {
     "data": {
      "text/plain": [
       "marketing_channel  completed\n",
       "Affiliate          1            0.787500\n",
       "                   0            0.212500\n",
       "DR                 1            0.839344\n",
       "                   0            0.160656\n",
       "Display            1            0.838710\n",
       "                   0            0.161290\n",
       "FI Channel         1            0.966667\n",
       "                   0            0.033333\n",
       "Internal           0            0.500000\n",
       "                   1            0.500000\n",
       "Non-Campaign       1            0.786087\n",
       "                   0            0.213913\n",
       "Organic Search     1            0.846914\n",
       "                   0            0.153086\n",
       "Other              1            0.625000\n",
       "                   0            0.375000\n",
       "Paid Search        1            0.871032\n",
       "                   0            0.128968\n",
       "Name: completed, dtype: float64"
      ]
     },
     "execution_count": 40,
     "metadata": {},
     "output_type": "execute_result"
    }
   ],
   "source": [
    "# Completed Rate Per Channel\n",
    "df.groupby('marketing_channel')['completed'].value_counts(normalize = True)"
   ]
  },
  {
   "cell_type": "code",
   "execution_count": 41,
   "metadata": {},
   "outputs": [
    {
     "data": {
      "text/html": [
       "<div>\n",
       "<style scoped>\n",
       "    .dataframe tbody tr th:only-of-type {\n",
       "        vertical-align: middle;\n",
       "    }\n",
       "\n",
       "    .dataframe tbody tr th {\n",
       "        vertical-align: top;\n",
       "    }\n",
       "\n",
       "    .dataframe thead th {\n",
       "        text-align: right;\n",
       "    }\n",
       "</style>\n",
       "<table border=\"1\" class=\"dataframe\">\n",
       "  <thead>\n",
       "    <tr style=\"text-align: right;\">\n",
       "      <th></th>\n",
       "      <th>marketing_channel</th>\n",
       "      <th>login_flag</th>\n",
       "    </tr>\n",
       "  </thead>\n",
       "  <tbody>\n",
       "    <tr>\n",
       "      <th>0</th>\n",
       "      <td>Non-Campaign</td>\n",
       "      <td>575</td>\n",
       "    </tr>\n",
       "    <tr>\n",
       "      <th>1</th>\n",
       "      <td>Paid Search</td>\n",
       "      <td>504</td>\n",
       "    </tr>\n",
       "    <tr>\n",
       "      <th>2</th>\n",
       "      <td>Organic Search</td>\n",
       "      <td>405</td>\n",
       "    </tr>\n",
       "    <tr>\n",
       "      <th>3</th>\n",
       "      <td>DR</td>\n",
       "      <td>305</td>\n",
       "    </tr>\n",
       "    <tr>\n",
       "      <th>4</th>\n",
       "      <td>FI Channel</td>\n",
       "      <td>90</td>\n",
       "    </tr>\n",
       "    <tr>\n",
       "      <th>5</th>\n",
       "      <td>Affiliate</td>\n",
       "      <td>80</td>\n",
       "    </tr>\n",
       "    <tr>\n",
       "      <th>6</th>\n",
       "      <td>Display</td>\n",
       "      <td>31</td>\n",
       "    </tr>\n",
       "    <tr>\n",
       "      <th>7</th>\n",
       "      <td>Other</td>\n",
       "      <td>8</td>\n",
       "    </tr>\n",
       "    <tr>\n",
       "      <th>8</th>\n",
       "      <td>Internal</td>\n",
       "      <td>2</td>\n",
       "    </tr>\n",
       "  </tbody>\n",
       "</table>\n",
       "</div>"
      ],
      "text/plain": [
       "  marketing_channel  login_flag\n",
       "0      Non-Campaign         575\n",
       "1       Paid Search         504\n",
       "2    Organic Search         405\n",
       "3                DR         305\n",
       "4        FI Channel          90\n",
       "5         Affiliate          80\n",
       "6           Display          31\n",
       "7             Other           8\n",
       "8          Internal           2"
      ]
     },
     "execution_count": 41,
     "metadata": {},
     "output_type": "execute_result"
    }
   ],
   "source": [
    "# Login numbers Per Channel\n",
    "df.groupby('marketing_channel', as_index = False)['login_flag'].sum().sort_values([\n",
    "    'login_flag'], ascending = False).reset_index(drop = True)"
   ]
  },
  {
   "cell_type": "code",
   "execution_count": 42,
   "metadata": {},
   "outputs": [
    {
     "data": {
      "text/html": [
       "<div>\n",
       "<style scoped>\n",
       "    .dataframe tbody tr th:only-of-type {\n",
       "        vertical-align: middle;\n",
       "    }\n",
       "\n",
       "    .dataframe tbody tr th {\n",
       "        vertical-align: top;\n",
       "    }\n",
       "\n",
       "    .dataframe thead th {\n",
       "        text-align: right;\n",
       "    }\n",
       "</style>\n",
       "<table border=\"1\" class=\"dataframe\">\n",
       "  <thead>\n",
       "    <tr style=\"text-align: right;\">\n",
       "      <th></th>\n",
       "      <th>marketing_channel</th>\n",
       "      <th>completed_product</th>\n",
       "      <th>login_flag</th>\n",
       "    </tr>\n",
       "  </thead>\n",
       "  <tbody>\n",
       "    <tr>\n",
       "      <th>0</th>\n",
       "      <td>Paid Search</td>\n",
       "      <td>Free</td>\n",
       "      <td>237</td>\n",
       "    </tr>\n",
       "    <tr>\n",
       "      <th>1</th>\n",
       "      <td>Non-Campaign</td>\n",
       "      <td>Free</td>\n",
       "      <td>213</td>\n",
       "    </tr>\n",
       "    <tr>\n",
       "      <th>2</th>\n",
       "      <td>Organic Search</td>\n",
       "      <td>Free</td>\n",
       "      <td>157</td>\n",
       "    </tr>\n",
       "    <tr>\n",
       "      <th>3</th>\n",
       "      <td>DR</td>\n",
       "      <td>Free</td>\n",
       "      <td>98</td>\n",
       "    </tr>\n",
       "    <tr>\n",
       "      <th>4</th>\n",
       "      <td>Affiliate</td>\n",
       "      <td>Free</td>\n",
       "      <td>44</td>\n",
       "    </tr>\n",
       "    <tr>\n",
       "      <th>5</th>\n",
       "      <td>FI Channel</td>\n",
       "      <td>Free</td>\n",
       "      <td>34</td>\n",
       "    </tr>\n",
       "    <tr>\n",
       "      <th>6</th>\n",
       "      <td>Display</td>\n",
       "      <td>Free</td>\n",
       "      <td>15</td>\n",
       "    </tr>\n",
       "    <tr>\n",
       "      <th>7</th>\n",
       "      <td>Other</td>\n",
       "      <td>Free</td>\n",
       "      <td>4</td>\n",
       "    </tr>\n",
       "    <tr>\n",
       "      <th>8</th>\n",
       "      <td>Internal</td>\n",
       "      <td>Free</td>\n",
       "      <td>1</td>\n",
       "    </tr>\n",
       "  </tbody>\n",
       "</table>\n",
       "</div>"
      ],
      "text/plain": [
       "  marketing_channel completed_product  login_flag\n",
       "0       Paid Search              Free         237\n",
       "1      Non-Campaign              Free         213\n",
       "2    Organic Search              Free         157\n",
       "3                DR              Free          98\n",
       "4         Affiliate              Free          44\n",
       "5        FI Channel              Free          34\n",
       "6           Display              Free          15\n",
       "7             Other              Free           4\n",
       "8          Internal              Free           1"
      ]
     },
     "execution_count": 42,
     "metadata": {},
     "output_type": "execute_result"
    }
   ],
   "source": [
    "# Login per marketing channel per product  -- can edit product\n",
    "df[df['completed_product'] == 'Free'].groupby(['marketing_channel', 'completed_product'],\n",
    "    as_index = False)['login_flag'].sum().sort_values(['login_flag'], ascending = False).reset_index(drop = True)"
   ]
  },
  {
   "cell_type": "code",
   "execution_count": 43,
   "metadata": {},
   "outputs": [
    {
     "data": {
      "text/html": [
       "<div>\n",
       "<style scoped>\n",
       "    .dataframe tbody tr th:only-of-type {\n",
       "        vertical-align: middle;\n",
       "    }\n",
       "\n",
       "    .dataframe tbody tr th {\n",
       "        vertical-align: top;\n",
       "    }\n",
       "\n",
       "    .dataframe thead th {\n",
       "        text-align: right;\n",
       "    }\n",
       "</style>\n",
       "<table border=\"1\" class=\"dataframe\">\n",
       "  <thead>\n",
       "    <tr style=\"text-align: right;\">\n",
       "      <th></th>\n",
       "      <th>marketing_channel</th>\n",
       "      <th>price</th>\n",
       "      <th>pct</th>\n",
       "    </tr>\n",
       "  </thead>\n",
       "  <tbody>\n",
       "    <tr>\n",
       "      <th>0</th>\n",
       "      <td>Non-Campaign</td>\n",
       "      <td>11457.61</td>\n",
       "      <td>0.287365</td>\n",
       "    </tr>\n",
       "    <tr>\n",
       "      <th>1</th>\n",
       "      <td>Paid Search</td>\n",
       "      <td>9337.98</td>\n",
       "      <td>0.234203</td>\n",
       "    </tr>\n",
       "    <tr>\n",
       "      <th>2</th>\n",
       "      <td>Organic Search</td>\n",
       "      <td>7938.14</td>\n",
       "      <td>0.199094</td>\n",
       "    </tr>\n",
       "    <tr>\n",
       "      <th>3</th>\n",
       "      <td>DR</td>\n",
       "      <td>7218.42</td>\n",
       "      <td>0.181043</td>\n",
       "    </tr>\n",
       "    <tr>\n",
       "      <th>4</th>\n",
       "      <td>FI Channel</td>\n",
       "      <td>2379.47</td>\n",
       "      <td>0.059679</td>\n",
       "    </tr>\n",
       "    <tr>\n",
       "      <th>5</th>\n",
       "      <td>Affiliate</td>\n",
       "      <td>839.81</td>\n",
       "      <td>0.021063</td>\n",
       "    </tr>\n",
       "    <tr>\n",
       "      <th>6</th>\n",
       "      <td>Display</td>\n",
       "      <td>599.89</td>\n",
       "      <td>0.015046</td>\n",
       "    </tr>\n",
       "    <tr>\n",
       "      <th>7</th>\n",
       "      <td>Other</td>\n",
       "      <td>99.99</td>\n",
       "      <td>0.002508</td>\n",
       "    </tr>\n",
       "    <tr>\n",
       "      <th>8</th>\n",
       "      <td>Internal</td>\n",
       "      <td>0.00</td>\n",
       "      <td>0.000000</td>\n",
       "    </tr>\n",
       "  </tbody>\n",
       "</table>\n",
       "</div>"
      ],
      "text/plain": [
       "  marketing_channel     price       pct\n",
       "0      Non-Campaign  11457.61  0.287365\n",
       "1       Paid Search   9337.98  0.234203\n",
       "2    Organic Search   7938.14  0.199094\n",
       "3                DR   7218.42  0.181043\n",
       "4        FI Channel   2379.47  0.059679\n",
       "5         Affiliate    839.81  0.021063\n",
       "6           Display    599.89  0.015046\n",
       "7             Other     99.99  0.002508\n",
       "8          Internal      0.00  0.000000"
      ]
     },
     "execution_count": 43,
     "metadata": {},
     "output_type": "execute_result"
    }
   ],
   "source": [
    "# Revenue per channel -- can edit product\n",
    "df7 = df.groupby(['marketing_channel'],as_index = False)['price'].sum().sort_values(['price']\n",
    "                                        , ascending = False).reset_index(drop = True)\n",
    "df7['pct'] = df7['price']/df7['price'].sum()\n",
    "df7"
   ]
  },
  {
   "cell_type": "code",
   "execution_count": 44,
   "metadata": {},
   "outputs": [
    {
     "data": {
      "text/html": [
       "<div>\n",
       "<style scoped>\n",
       "    .dataframe tbody tr th:only-of-type {\n",
       "        vertical-align: middle;\n",
       "    }\n",
       "\n",
       "    .dataframe tbody tr th {\n",
       "        vertical-align: top;\n",
       "    }\n",
       "\n",
       "    .dataframe thead th {\n",
       "        text-align: right;\n",
       "    }\n",
       "</style>\n",
       "<table border=\"1\" class=\"dataframe\">\n",
       "  <thead>\n",
       "    <tr style=\"text-align: right;\">\n",
       "      <th></th>\n",
       "      <th>marketing_channel</th>\n",
       "      <th>completed_product</th>\n",
       "      <th>login_flag</th>\n",
       "    </tr>\n",
       "  </thead>\n",
       "  <tbody>\n",
       "    <tr>\n",
       "      <th>0</th>\n",
       "      <td>DR</td>\n",
       "      <td>Deluxe</td>\n",
       "      <td>111</td>\n",
       "    </tr>\n",
       "    <tr>\n",
       "      <th>1</th>\n",
       "      <td>DR</td>\n",
       "      <td>Free</td>\n",
       "      <td>98</td>\n",
       "    </tr>\n",
       "    <tr>\n",
       "      <th>2</th>\n",
       "      <td>DR</td>\n",
       "      <td>(null)</td>\n",
       "      <td>49</td>\n",
       "    </tr>\n",
       "    <tr>\n",
       "      <th>3</th>\n",
       "      <td>DR</td>\n",
       "      <td>Premier</td>\n",
       "      <td>34</td>\n",
       "    </tr>\n",
       "    <tr>\n",
       "      <th>4</th>\n",
       "      <td>DR</td>\n",
       "      <td>H &amp; B</td>\n",
       "      <td>13</td>\n",
       "    </tr>\n",
       "  </tbody>\n",
       "</table>\n",
       "</div>"
      ],
      "text/plain": [
       "  marketing_channel completed_product  login_flag\n",
       "0                DR            Deluxe         111\n",
       "1                DR              Free          98\n",
       "2                DR            (null)          49\n",
       "3                DR           Premier          34\n",
       "4                DR             H & B          13"
      ]
     },
     "execution_count": 44,
     "metadata": {},
     "output_type": "execute_result"
    }
   ],
   "source": [
    "# Revenue per marketing channel per product  -- can edit product\n",
    "df[df['marketing_channel'] == 'DR'].groupby(['marketing_channel', 'completed_product'],\n",
    "    as_index = False)['login_flag'].sum().sort_values(['login_flag'], ascending = False).reset_index(drop = True)"
   ]
  },
  {
   "cell_type": "markdown",
   "metadata": {},
   "source": [
    "*Suggeations:*"
   ]
  },
  {
   "cell_type": "markdown",
   "metadata": {},
   "source": [
    "- Choose Affiliate, Display, Other, Internal to do FREE product marketing event, as 88% people log in from other channels, if we can attract more people from these channels with free product then probobaly paid-product, the sales volume and sales amount will be expected to greatly increase.\n",
    "___\n",
    "- Among all exisiting channels, affliate, non-campaign, have relatively high pct non-complete, can dive in.\n",
    "___"
   ]
  },
  {
   "cell_type": "markdown",
   "metadata": {},
   "source": [
    "**Question 4: Open-ended: Explore the data, and surprise us with a recommendation**"
   ]
  },
  {
   "cell_type": "code",
   "execution_count": 45,
   "metadata": {},
   "outputs": [
    {
     "data": {
      "text/html": [
       "<div>\n",
       "<style scoped>\n",
       "    .dataframe tbody tr th:only-of-type {\n",
       "        vertical-align: middle;\n",
       "    }\n",
       "\n",
       "    .dataframe tbody tr th {\n",
       "        vertical-align: top;\n",
       "    }\n",
       "\n",
       "    .dataframe thead th {\n",
       "        text-align: right;\n",
       "    }\n",
       "</style>\n",
       "<table border=\"1\" class=\"dataframe\">\n",
       "  <thead>\n",
       "    <tr style=\"text-align: right;\">\n",
       "      <th></th>\n",
       "      <th>tax_year</th>\n",
       "      <th>login_date</th>\n",
       "      <th>completed_product</th>\n",
       "      <th>marketing_channel</th>\n",
       "      <th>customer_type</th>\n",
       "      <th>login_flag</th>\n",
       "      <th>completed</th>\n",
       "      <th>session_count</th>\n",
       "      <th>price</th>\n",
       "    </tr>\n",
       "  </thead>\n",
       "  <tbody>\n",
       "    <tr>\n",
       "      <th>0</th>\n",
       "      <td>TY13</td>\n",
       "      <td>12/31/2013</td>\n",
       "      <td>(null)</td>\n",
       "      <td>Paid Search</td>\n",
       "      <td>(null)</td>\n",
       "      <td>1</td>\n",
       "      <td>0</td>\n",
       "      <td>(null)</td>\n",
       "      <td>0.00</td>\n",
       "    </tr>\n",
       "    <tr>\n",
       "      <th>1</th>\n",
       "      <td>TY13</td>\n",
       "      <td>12/31/2013</td>\n",
       "      <td>Premier</td>\n",
       "      <td>Organic Search</td>\n",
       "      <td>New</td>\n",
       "      <td>1</td>\n",
       "      <td>1</td>\n",
       "      <td>0</td>\n",
       "      <td>59.99</td>\n",
       "    </tr>\n",
       "    <tr>\n",
       "      <th>2</th>\n",
       "      <td>TY13</td>\n",
       "      <td>1/2/2014</td>\n",
       "      <td>Deluxe</td>\n",
       "      <td>Organic Search</td>\n",
       "      <td>New</td>\n",
       "      <td>1</td>\n",
       "      <td>1</td>\n",
       "      <td>0</td>\n",
       "      <td>39.99</td>\n",
       "    </tr>\n",
       "    <tr>\n",
       "      <th>3</th>\n",
       "      <td>TY13</td>\n",
       "      <td>1/2/2014</td>\n",
       "      <td>Free</td>\n",
       "      <td>Non-Campaign</td>\n",
       "      <td>New</td>\n",
       "      <td>1</td>\n",
       "      <td>1</td>\n",
       "      <td>0</td>\n",
       "      <td>0.00</td>\n",
       "    </tr>\n",
       "    <tr>\n",
       "      <th>4</th>\n",
       "      <td>TY13</td>\n",
       "      <td>1/4/2014</td>\n",
       "      <td>Premier</td>\n",
       "      <td>Non-Campaign</td>\n",
       "      <td>New</td>\n",
       "      <td>1</td>\n",
       "      <td>1</td>\n",
       "      <td>0</td>\n",
       "      <td>59.99</td>\n",
       "    </tr>\n",
       "  </tbody>\n",
       "</table>\n",
       "</div>"
      ],
      "text/plain": [
       "  tax_year  login_date completed_product marketing_channel customer_type  \\\n",
       "0     TY13  12/31/2013            (null)       Paid Search        (null)   \n",
       "1     TY13  12/31/2013           Premier    Organic Search           New   \n",
       "2     TY13    1/2/2014            Deluxe    Organic Search           New   \n",
       "3     TY13    1/2/2014              Free      Non-Campaign           New   \n",
       "4     TY13    1/4/2014           Premier      Non-Campaign           New   \n",
       "\n",
       "   login_flag  completed session_count  price  \n",
       "0           1          0        (null)   0.00  \n",
       "1           1          1             0  59.99  \n",
       "2           1          1             0  39.99  \n",
       "3           1          1             0   0.00  \n",
       "4           1          1             0  59.99  "
      ]
     },
     "execution_count": 45,
     "metadata": {},
     "output_type": "execute_result"
    }
   ],
   "source": [
    "df.head()"
   ]
  },
  {
   "cell_type": "code",
   "execution_count": 46,
   "metadata": {},
   "outputs": [
    {
     "data": {
      "text/plain": [
       "array(['Paid Search', 'Organic Search', 'Non-Campaign', 'FI Channel',\n",
       "       'Affiliate', 'DR', 'Display', 'Internal', 'Other'], dtype=object)"
      ]
     },
     "execution_count": 46,
     "metadata": {},
     "output_type": "execute_result"
    }
   ],
   "source": [
    "df['marketing_channel'].unique()"
   ]
  },
  {
   "cell_type": "code",
   "execution_count": 47,
   "metadata": {},
   "outputs": [
    {
     "data": {
      "text/plain": [
       "0         29\n",
       "1         14\n",
       "(null)    12\n",
       "2         10\n",
       "3          5\n",
       "5          3\n",
       "7          2\n",
       "8          2\n",
       "4          2\n",
       "13         1\n",
       "Name: session_count, dtype: int64"
      ]
     },
     "execution_count": 47,
     "metadata": {},
     "output_type": "execute_result"
    }
   ],
   "source": [
    "# Distribution of times a customer logged in before completing\n",
    "df[df['marketing_channel'] == 'Affiliate']['session_count'].value_counts()"
   ]
  },
  {
   "cell_type": "code",
   "execution_count": 48,
   "metadata": {},
   "outputs": [],
   "source": [
    "# Distribution product from each channel\n",
    "# df[df['marketing_channel'] == 'Affiliate']['completed_product'].value_counts()"
   ]
  },
  {
   "cell_type": "code",
   "execution_count": 49,
   "metadata": {},
   "outputs": [],
   "source": [
    "# Distribution Revenue from each channel\n",
    "# df[df['marketing_channel'] == 'Affiliate'].groupby('completed_product', as_index = False)['price'].sum()"
   ]
  },
  {
   "cell_type": "markdown",
   "metadata": {},
   "source": [
    "____\n",
    "**Question 5: What other datapoints would you like to have in order to better evaluate these questions? Make a recommendation as to the critical datapoints we should collect in addition to what’s in this dataset.**\n",
    "____"
   ]
  },
  {
   "cell_type": "markdown",
   "metadata": {},
   "source": [
    "- Main objective of campaign or promotion, engagement or revenue?\n",
    "\n",
    "- Additional info for login flag: need dp for those who visit but not login.\n",
    "\n",
    "- Costs of each products, and Costs of campaign or other promotion events, to calculate profits.\n",
    "- More historical data to better figure out seasonality.\n",
    "\n",
    "- Individual level data to identify the feature of each user groups, to understand the market potential, and to do customer targrting and pricing.\n",
    "- Activities during their 2nd, 3rd, etc. visits."
   ]
  },
  {
   "cell_type": "code",
   "execution_count": null,
   "metadata": {},
   "outputs": [],
   "source": []
  }
 ],
 "metadata": {
  "kernelspec": {
   "display_name": "Python 3",
   "language": "python",
   "name": "python3"
  },
  "language_info": {
   "codemirror_mode": {
    "name": "ipython",
    "version": 3
   },
   "file_extension": ".py",
   "mimetype": "text/x-python",
   "name": "python",
   "nbconvert_exporter": "python",
   "pygments_lexer": "ipython3",
   "version": "3.7.1"
  }
 },
 "nbformat": 4,
 "nbformat_minor": 2
}
